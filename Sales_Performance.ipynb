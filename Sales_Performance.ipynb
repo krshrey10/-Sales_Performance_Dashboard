{
  "nbformat": 4,
  "nbformat_minor": 0,
  "metadata": {
    "colab": {
      "provenance": [],
      "authorship_tag": "ABX9TyPy/knfHmH9wUfDU7X0Z3VC",
      "include_colab_link": true
    },
    "kernelspec": {
      "name": "python3",
      "display_name": "Python 3"
    },
    "language_info": {
      "name": "python"
    }
  },
  "cells": [
    {
      "cell_type": "markdown",
      "metadata": {
        "id": "view-in-github",
        "colab_type": "text"
      },
      "source": [
        "<a href=\"https://colab.research.google.com/github/krshrey10/-Sales_Performance_Dashboard/blob/main/Sales_Performance.ipynb\" target=\"_parent\"><img src=\"https://colab.research.google.com/assets/colab-badge.svg\" alt=\"Open In Colab\"/></a>"
      ]
    },
    {
      "cell_type": "markdown",
      "source": [
        "# **Project : Sales Performance Dashboard with Predictive Analytics**"
      ],
      "metadata": {
        "id": "9id6fSm8N829"
      }
    },
    {
      "cell_type": "markdown",
      "source": [
        "# **Data Cleaning & Feature Engineering**\n",
        "\n",
        "---\n",
        "\n"
      ],
      "metadata": {
        "id": "x8EIyNXbGn5w"
      }
    },
    {
      "cell_type": "code",
      "execution_count": 4,
      "metadata": {
        "id": "0Adx3d7iFpkZ"
      },
      "outputs": [],
      "source": [
        "import pandas as pd\n",
        "df = pd.read_csv(\"/content/train.csv\")"
      ]
    },
    {
      "cell_type": "code",
      "source": [
        "df['Order Date'] = pd.to_datetime(df['Order Date'], format='%d/%m/%Y', errors='coerce')\n",
        "df['Year'] = df['Order Date'].dt.year"
      ],
      "metadata": {
        "id": "JGD0OlCGGkeQ"
      },
      "execution_count": 5,
      "outputs": []
    },
    {
      "cell_type": "markdown",
      "source": [
        "# **Machine Learning (Sales Prediction)**\n",
        "\n",
        "---\n",
        "\n"
      ],
      "metadata": {
        "id": "0BO7DJyBGtiO"
      }
    },
    {
      "cell_type": "code",
      "source": [
        "from sklearn.linear_model import LinearRegression\n",
        "X = df[['Year']]\n",
        "y = df['Sales']\n",
        "model = LinearRegression().fit(X, y)\n",
        "df['Predicted_Sales'] = model.predict(X)"
      ],
      "metadata": {
        "id": "e3cK71qMGrzn"
      },
      "execution_count": 7,
      "outputs": []
    },
    {
      "cell_type": "markdown",
      "source": [
        "# **Export Data for Power BI**\n",
        "\n",
        "---\n",
        "\n"
      ],
      "metadata": {
        "id": "5hc0zjKzMmUC"
      }
    },
    {
      "cell_type": "code",
      "source": [
        "df.to_csv(\"sales_prediction_ready.csv\", index=False)"
      ],
      "metadata": {
        "id": "lGphE0vOHAOp"
      },
      "execution_count": 8,
      "outputs": []
    }
  ]
}